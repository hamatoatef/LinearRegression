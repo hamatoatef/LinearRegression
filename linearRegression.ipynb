{
 "cells": [
  {
   "cell_type": "code",
   "execution_count": 1,
   "id": "5288d55d",
   "metadata": {
    "_cell_guid": "b1076dfc-b9ad-4769-8c92-a6c4dae69d19",
    "_uuid": "8f2839f25d086af736a60e9eeb907d3b93b6e0e5",
    "execution": {
     "iopub.execute_input": "2022-08-01T07:32:08.389570Z",
     "iopub.status.busy": "2022-08-01T07:32:08.388557Z",
     "iopub.status.idle": "2022-08-01T07:32:08.411524Z",
     "shell.execute_reply": "2022-08-01T07:32:08.410514Z"
    },
    "papermill": {
     "duration": 0.033383,
     "end_time": "2022-08-01T07:32:08.414974",
     "exception": false,
     "start_time": "2022-08-01T07:32:08.381591",
     "status": "completed"
    },
    "tags": []
   },
   "outputs": [
    {
     "name": "stdout",
     "output_type": "stream",
     "text": [
      "/kaggle/input/random-linear-regression/train.csv\n",
      "/kaggle/input/random-linear-regression/test.csv\n"
     ]
    }
   ],
   "source": [
    "# This Python 3 environment comes with many helpful analytics libraries installed\n",
    "# It is defined by the kaggle/python Docker image: https://github.com/kaggle/docker-python\n",
    "# For example, here's several helpful packages to load\n",
    "\n",
    "import numpy as np # linear algebra\n",
    "import pandas as pd # data processing, CSV file I/O (e.g. pd.read_csv)\n",
    "\n",
    "# Input data files are available in the read-only \"../input/\" directory\n",
    "# For example, running this (by clicking run or pressing Shift+Enter) will list all files under the input directory\n",
    "\n",
    "import os\n",
    "for dirname, _, filenames in os.walk('/kaggle/input'):\n",
    "    for filename in filenames:\n",
    "        print(os.path.join(dirname, filename))\n",
    "\n",
    "# You can write up to 20GB to the current directory (/kaggle/working/) that gets preserved as output when you create a version using \"Save & Run All\" \n",
    "# You can also write temporary files to /kaggle/temp/, but they won't be saved outside of the current session"
   ]
  },
  {
   "cell_type": "code",
   "execution_count": 2,
   "id": "fab3fb3d",
   "metadata": {
    "execution": {
     "iopub.execute_input": "2022-08-01T07:32:08.425926Z",
     "iopub.status.busy": "2022-08-01T07:32:08.425253Z",
     "iopub.status.idle": "2022-08-01T07:32:09.876750Z",
     "shell.execute_reply": "2022-08-01T07:32:09.875399Z"
    },
    "papermill": {
     "duration": 1.460291,
     "end_time": "2022-08-01T07:32:09.879633",
     "exception": false,
     "start_time": "2022-08-01T07:32:08.419342",
     "status": "completed"
    },
    "tags": []
   },
   "outputs": [],
   "source": [
    "# Import libraries necessary for this project\n",
    "from matplotlib import pyplot as plt\n",
    "from sklearn.linear_model import LinearRegression\n",
    "from sklearn.metrics import mean_squared_error, r2_score"
   ]
  },
  {
   "cell_type": "code",
   "execution_count": 3,
   "id": "57d99358",
   "metadata": {
    "execution": {
     "iopub.execute_input": "2022-08-01T07:32:09.890764Z",
     "iopub.status.busy": "2022-08-01T07:32:09.889268Z",
     "iopub.status.idle": "2022-08-01T07:32:09.916703Z",
     "shell.execute_reply": "2022-08-01T07:32:09.915181Z"
    },
    "papermill": {
     "duration": 0.035666,
     "end_time": "2022-08-01T07:32:09.919542",
     "exception": false,
     "start_time": "2022-08-01T07:32:09.883876",
     "status": "completed"
    },
    "tags": []
   },
   "outputs": [],
   "source": [
    "# Load the Census dataset\n",
    "train = pd.read_csv(\"../input/random-linear-regression/train.csv\") \n",
    "test = pd.read_csv(\"../input/random-linear-regression/test.csv\")"
   ]
  },
  {
   "cell_type": "code",
   "execution_count": 4,
   "id": "fd214d82",
   "metadata": {
    "execution": {
     "iopub.execute_input": "2022-08-01T07:32:09.930020Z",
     "iopub.status.busy": "2022-08-01T07:32:09.928784Z",
     "iopub.status.idle": "2022-08-01T07:32:09.955485Z",
     "shell.execute_reply": "2022-08-01T07:32:09.954198Z"
    },
    "papermill": {
     "duration": 0.034551,
     "end_time": "2022-08-01T07:32:09.958043",
     "exception": false,
     "start_time": "2022-08-01T07:32:09.923492",
     "status": "completed"
    },
    "tags": []
   },
   "outputs": [
    {
     "data": {
      "text/html": [
       "<div>\n",
       "<style scoped>\n",
       "    .dataframe tbody tr th:only-of-type {\n",
       "        vertical-align: middle;\n",
       "    }\n",
       "\n",
       "    .dataframe tbody tr th {\n",
       "        vertical-align: top;\n",
       "    }\n",
       "\n",
       "    .dataframe thead th {\n",
       "        text-align: right;\n",
       "    }\n",
       "</style>\n",
       "<table border=\"1\" class=\"dataframe\">\n",
       "  <thead>\n",
       "    <tr style=\"text-align: right;\">\n",
       "      <th></th>\n",
       "      <th>x</th>\n",
       "      <th>y</th>\n",
       "    </tr>\n",
       "  </thead>\n",
       "  <tbody>\n",
       "    <tr>\n",
       "      <th>0</th>\n",
       "      <td>24.0</td>\n",
       "      <td>21.549452</td>\n",
       "    </tr>\n",
       "    <tr>\n",
       "      <th>1</th>\n",
       "      <td>50.0</td>\n",
       "      <td>47.464463</td>\n",
       "    </tr>\n",
       "    <tr>\n",
       "      <th>2</th>\n",
       "      <td>15.0</td>\n",
       "      <td>17.218656</td>\n",
       "    </tr>\n",
       "    <tr>\n",
       "      <th>3</th>\n",
       "      <td>38.0</td>\n",
       "      <td>36.586398</td>\n",
       "    </tr>\n",
       "    <tr>\n",
       "      <th>4</th>\n",
       "      <td>87.0</td>\n",
       "      <td>87.288984</td>\n",
       "    </tr>\n",
       "  </tbody>\n",
       "</table>\n",
       "</div>"
      ],
      "text/plain": [
       "      x          y\n",
       "0  24.0  21.549452\n",
       "1  50.0  47.464463\n",
       "2  15.0  17.218656\n",
       "3  38.0  36.586398\n",
       "4  87.0  87.288984"
      ]
     },
     "execution_count": 4,
     "metadata": {},
     "output_type": "execute_result"
    }
   ],
   "source": [
    "train.head()"
   ]
  },
  {
   "cell_type": "code",
   "execution_count": 5,
   "id": "cc7c5a92",
   "metadata": {
    "execution": {
     "iopub.execute_input": "2022-08-01T07:32:09.968516Z",
     "iopub.status.busy": "2022-08-01T07:32:09.967722Z",
     "iopub.status.idle": "2022-08-01T07:32:09.979900Z",
     "shell.execute_reply": "2022-08-01T07:32:09.978721Z"
    },
    "papermill": {
     "duration": 0.021277,
     "end_time": "2022-08-01T07:32:09.983725",
     "exception": false,
     "start_time": "2022-08-01T07:32:09.962448",
     "status": "completed"
    },
    "tags": []
   },
   "outputs": [
    {
     "data": {
      "text/html": [
       "<div>\n",
       "<style scoped>\n",
       "    .dataframe tbody tr th:only-of-type {\n",
       "        vertical-align: middle;\n",
       "    }\n",
       "\n",
       "    .dataframe tbody tr th {\n",
       "        vertical-align: top;\n",
       "    }\n",
       "\n",
       "    .dataframe thead th {\n",
       "        text-align: right;\n",
       "    }\n",
       "</style>\n",
       "<table border=\"1\" class=\"dataframe\">\n",
       "  <thead>\n",
       "    <tr style=\"text-align: right;\">\n",
       "      <th></th>\n",
       "      <th>x</th>\n",
       "      <th>y</th>\n",
       "    </tr>\n",
       "  </thead>\n",
       "  <tbody>\n",
       "    <tr>\n",
       "      <th>0</th>\n",
       "      <td>77</td>\n",
       "      <td>79.775152</td>\n",
       "    </tr>\n",
       "    <tr>\n",
       "      <th>1</th>\n",
       "      <td>21</td>\n",
       "      <td>23.177279</td>\n",
       "    </tr>\n",
       "    <tr>\n",
       "      <th>2</th>\n",
       "      <td>22</td>\n",
       "      <td>25.609262</td>\n",
       "    </tr>\n",
       "    <tr>\n",
       "      <th>3</th>\n",
       "      <td>20</td>\n",
       "      <td>17.857388</td>\n",
       "    </tr>\n",
       "    <tr>\n",
       "      <th>4</th>\n",
       "      <td>36</td>\n",
       "      <td>41.849864</td>\n",
       "    </tr>\n",
       "  </tbody>\n",
       "</table>\n",
       "</div>"
      ],
      "text/plain": [
       "    x          y\n",
       "0  77  79.775152\n",
       "1  21  23.177279\n",
       "2  22  25.609262\n",
       "3  20  17.857388\n",
       "4  36  41.849864"
      ]
     },
     "execution_count": 5,
     "metadata": {},
     "output_type": "execute_result"
    }
   ],
   "source": [
    "test.head()"
   ]
  },
  {
   "cell_type": "code",
   "execution_count": 6,
   "id": "e9ff2462",
   "metadata": {
    "execution": {
     "iopub.execute_input": "2022-08-01T07:32:09.995545Z",
     "iopub.status.busy": "2022-08-01T07:32:09.994725Z",
     "iopub.status.idle": "2022-08-01T07:32:10.020189Z",
     "shell.execute_reply": "2022-08-01T07:32:10.019239Z"
    },
    "papermill": {
     "duration": 0.034966,
     "end_time": "2022-08-01T07:32:10.023100",
     "exception": false,
     "start_time": "2022-08-01T07:32:09.988134",
     "status": "completed"
    },
    "tags": []
   },
   "outputs": [
    {
     "name": "stdout",
     "output_type": "stream",
     "text": [
      "<class 'pandas.core.frame.DataFrame'>\n",
      "RangeIndex: 700 entries, 0 to 699\n",
      "Data columns (total 2 columns):\n",
      " #   Column  Non-Null Count  Dtype  \n",
      "---  ------  --------------  -----  \n",
      " 0   x       700 non-null    float64\n",
      " 1   y       699 non-null    float64\n",
      "dtypes: float64(2)\n",
      "memory usage: 11.1 KB\n"
     ]
    }
   ],
   "source": [
    "train.info()"
   ]
  },
  {
   "cell_type": "code",
   "execution_count": 7,
   "id": "b504f568",
   "metadata": {
    "execution": {
     "iopub.execute_input": "2022-08-01T07:32:10.034252Z",
     "iopub.status.busy": "2022-08-01T07:32:10.033587Z",
     "iopub.status.idle": "2022-08-01T07:32:10.058701Z",
     "shell.execute_reply": "2022-08-01T07:32:10.057417Z"
    },
    "papermill": {
     "duration": 0.034443,
     "end_time": "2022-08-01T07:32:10.062019",
     "exception": false,
     "start_time": "2022-08-01T07:32:10.027576",
     "status": "completed"
    },
    "tags": []
   },
   "outputs": [
    {
     "data": {
      "text/html": [
       "<div>\n",
       "<style scoped>\n",
       "    .dataframe tbody tr th:only-of-type {\n",
       "        vertical-align: middle;\n",
       "    }\n",
       "\n",
       "    .dataframe tbody tr th {\n",
       "        vertical-align: top;\n",
       "    }\n",
       "\n",
       "    .dataframe thead th {\n",
       "        text-align: right;\n",
       "    }\n",
       "</style>\n",
       "<table border=\"1\" class=\"dataframe\">\n",
       "  <thead>\n",
       "    <tr style=\"text-align: right;\">\n",
       "      <th></th>\n",
       "      <th>x</th>\n",
       "      <th>y</th>\n",
       "    </tr>\n",
       "  </thead>\n",
       "  <tbody>\n",
       "    <tr>\n",
       "      <th>count</th>\n",
       "      <td>700.0</td>\n",
       "      <td>699.0</td>\n",
       "    </tr>\n",
       "    <tr>\n",
       "      <th>mean</th>\n",
       "      <td>55.0</td>\n",
       "      <td>49.9</td>\n",
       "    </tr>\n",
       "    <tr>\n",
       "      <th>std</th>\n",
       "      <td>134.7</td>\n",
       "      <td>29.1</td>\n",
       "    </tr>\n",
       "    <tr>\n",
       "      <th>min</th>\n",
       "      <td>0.0</td>\n",
       "      <td>-3.8</td>\n",
       "    </tr>\n",
       "    <tr>\n",
       "      <th>25%</th>\n",
       "      <td>25.0</td>\n",
       "      <td>24.9</td>\n",
       "    </tr>\n",
       "    <tr>\n",
       "      <th>50%</th>\n",
       "      <td>49.0</td>\n",
       "      <td>49.0</td>\n",
       "    </tr>\n",
       "    <tr>\n",
       "      <th>75%</th>\n",
       "      <td>75.0</td>\n",
       "      <td>74.9</td>\n",
       "    </tr>\n",
       "    <tr>\n",
       "      <th>max</th>\n",
       "      <td>3530.2</td>\n",
       "      <td>108.9</td>\n",
       "    </tr>\n",
       "  </tbody>\n",
       "</table>\n",
       "</div>"
      ],
      "text/plain": [
       "            x      y\n",
       "count   700.0  699.0\n",
       "mean     55.0   49.9\n",
       "std     134.7   29.1\n",
       "min       0.0   -3.8\n",
       "25%      25.0   24.9\n",
       "50%      49.0   49.0\n",
       "75%      75.0   74.9\n",
       "max    3530.2  108.9"
      ]
     },
     "execution_count": 7,
     "metadata": {},
     "output_type": "execute_result"
    }
   ],
   "source": [
    "train.describe().round(1)"
   ]
  },
  {
   "cell_type": "code",
   "execution_count": 8,
   "id": "021d949c",
   "metadata": {
    "execution": {
     "iopub.execute_input": "2022-08-01T07:32:10.074519Z",
     "iopub.status.busy": "2022-08-01T07:32:10.073294Z",
     "iopub.status.idle": "2022-08-01T07:32:10.081882Z",
     "shell.execute_reply": "2022-08-01T07:32:10.080361Z"
    },
    "papermill": {
     "duration": 0.017613,
     "end_time": "2022-08-01T07:32:10.084699",
     "exception": false,
     "start_time": "2022-08-01T07:32:10.067086",
     "status": "completed"
    },
    "tags": []
   },
   "outputs": [],
   "source": [
    "train = train.dropna()"
   ]
  },
  {
   "cell_type": "code",
   "execution_count": 9,
   "id": "3c69bdd0",
   "metadata": {
    "execution": {
     "iopub.execute_input": "2022-08-01T07:32:10.097069Z",
     "iopub.status.busy": "2022-08-01T07:32:10.095832Z",
     "iopub.status.idle": "2022-08-01T07:32:10.105503Z",
     "shell.execute_reply": "2022-08-01T07:32:10.104565Z"
    },
    "papermill": {
     "duration": 0.018357,
     "end_time": "2022-08-01T07:32:10.107921",
     "exception": false,
     "start_time": "2022-08-01T07:32:10.089564",
     "status": "completed"
    },
    "tags": []
   },
   "outputs": [
    {
     "data": {
      "text/plain": [
       "x    0\n",
       "y    0\n",
       "dtype: int64"
      ]
     },
     "execution_count": 9,
     "metadata": {},
     "output_type": "execute_result"
    }
   ],
   "source": [
    "train.isna().sum()"
   ]
  },
  {
   "cell_type": "code",
   "execution_count": 10,
   "id": "0897046a",
   "metadata": {
    "execution": {
     "iopub.execute_input": "2022-08-01T07:32:10.121295Z",
     "iopub.status.busy": "2022-08-01T07:32:10.119869Z",
     "iopub.status.idle": "2022-08-01T07:32:10.716459Z",
     "shell.execute_reply": "2022-08-01T07:32:10.714840Z"
    },
    "papermill": {
     "duration": 0.606655,
     "end_time": "2022-08-01T07:32:10.719547",
     "exception": false,
     "start_time": "2022-08-01T07:32:10.112892",
     "status": "completed"
    },
    "tags": []
   },
   "outputs": [
    {
     "data": {
      "text/plain": [
       "<AxesSubplot:>"
      ]
     },
     "execution_count": 10,
     "metadata": {},
     "output_type": "execute_result"
    },
    {
     "data": {
      "image/png": "[encoded data removed]",
      "text/plain": [
       "<Figure size 432x288 with 2 Axes>"
      ]
     },
     "metadata": {
      "needs_background": "light"
     },
     "output_type": "display_data"
    }
   ],
   "source": [
    "import seaborn as sns\n",
    "sns.heatmap(train.isna())"
   ]
  },
  {
   "cell_type": "code",
   "execution_count": 11,
   "id": "b75e6bb8",
   "metadata": {
    "execution": {
     "iopub.execute_input": "2022-08-01T07:32:10.732539Z",
     "iopub.status.busy": "2022-08-01T07:32:10.732072Z",
     "iopub.status.idle": "2022-08-01T07:32:10.949946Z",
     "shell.execute_reply": "2022-08-01T07:32:10.948402Z"
    },
    "papermill": {
     "duration": 0.228398,
     "end_time": "2022-08-01T07:32:10.953244",
     "exception": false,
     "start_time": "2022-08-01T07:32:10.724846",
     "status": "completed"
    },
    "tags": []
   },
   "outputs": [
    {
     "name": "stderr",
     "output_type": "stream",
     "text": [
      "/opt/conda/lib/python3.7/site-packages/sklearn/linear_model/_base.py:145: FutureWarning: 'normalize' was deprecated in version 1.0 and will be removed in 1.2.\n",
      "If you wish to scale the data, use Pipeline with a StandardScaler in a preprocessing stage. To reproduce the previous behavior:\n",
      "\n",
      "from sklearn.pipeline import make_pipeline\n",
      "\n",
      "model = make_pipeline(StandardScaler(with_mean=False), LinearRegression())\n",
      "\n",
      "If you wish to pass a sample_weight parameter, you need to pass it as a fit parameter to each step of the pipeline as follows:\n",
      "\n",
      "kwargs = {s[0] + '__sample_weight': sample_weight for s in model.steps}\n",
      "model.fit(X, y, **kwargs)\n",
      "\n",
      "\n",
      "  FutureWarning,\n"
     ]
    },
    {
     "data": {
      "image/png": "[encoded data removed]",
      "text/plain": [
       "<Figure size 432x288 with 1 Axes>"
      ]
     },
     "metadata": {
      "needs_background": "light"
     },
     "output_type": "display_data"
    },
    {
     "name": "stdout",
     "output_type": "stream",
     "text": [
      "0.9888014444327563\n"
     ]
    }
   ],
   "source": [
    "X_train = np.array(train.iloc[:, :-1].values)\n",
    "y_train = np.array(train.iloc[:, 1].values)\n",
    "X_test = np.array(test.iloc[:, :-1].values)\n",
    "y_test = np.array(test.iloc[:, 1].values)\n",
    "model = LinearRegression(fit_intercept=True, normalize=True,copy_X=True,n_jobs=-1)\n",
    "\n",
    "\n",
    "model.fit(X_train, y_train)\n",
    "\n",
    "y_pred = model.predict(X_test)\n",
    "accuracy = model.score(X_test, y_test)\n",
    "\n",
    "plt.plot(X_train, model.predict(X_train), color='green')\n",
    "plt.show()\n",
    "print(accuracy)"
   ]
  }
 ],
 "metadata": {
  "kernelspec": {
   "display_name": "Python 3",
   "language": "python",
   "name": "python3"
  },
  "language_info": {
   "codemirror_mode": {
    "name": "ipython",
    "version": 3
   },
   "file_extension": ".py",
   "mimetype": "text/x-python",
   "name": "python",
   "nbconvert_exporter": "python",
   "pygments_lexer": "ipython3",
   "version": "3.7.12"
  },
  "papermill": {
   "default_parameters": {},
   "duration": 15.383669,
   "end_time": "2022-08-01T07:32:11.982921",
   "environment_variables": {},
   "exception": null,
   "input_path": "__notebook__.ipynb",
   "output_path": "__notebook__.ipynb",
   "parameters": {},
   "start_time": "2022-08-01T07:31:56.599252",
   "version": "2.3.4"
  }
 },
 "nbformat": 4,
 "nbformat_minor": 5
}
